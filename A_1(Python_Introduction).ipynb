{
  "cells": [
    {
      "cell_type": "code",
      "execution_count": 1,
      "metadata": {
        "colab": {
          "base_uri": "https://localhost:8080/"
        },
        "id": "JAj-8-etlcsK",
        "outputId": "4ed13c7a-4dec-4b42-bdb3-d17eeda4e25e"
      },
      "outputs": [
        {
          "name": "stdout",
          "output_type": "stream",
          "text": [
            "WOW!\n"
          ]
        }
      ],
      "source": [
        "# 1\n",
        "print(\"WOW!\")"
      ]
    },
    {
      "cell_type": "code",
      "execution_count": 2,
      "metadata": {
        "colab": {
          "base_uri": "https://localhost:8080/"
        },
        "id": "cfRQY8xXlw8E",
        "outputId": "1b1754ed-a5f2-45b2-ed96-7c52356e195b"
      },
      "outputs": [
        {
          "name": "stdout",
          "output_type": "stream",
          "text": [
            "5\n",
            "Krish Arora\n",
            "Krish 3\n"
          ]
        }
      ],
      "source": [
        "# 2\n",
        "a=2\n",
        "b=3\n",
        "print(a+b)\n",
        "c=\"Krish \"\n",
        "d=\"Arora\"\n",
        "print(c+d)\n",
        "print(c+ str(b))"
      ]
    },
    {
      "cell_type": "code",
      "execution_count": 3,
      "metadata": {
        "colab": {
          "base_uri": "https://localhost:8080/"
        },
        "id": "mls253qbmQvR",
        "outputId": "4b7089fe-f66a-40f3-f654-71b567767eef"
      },
      "outputs": [
        {
          "name": "stdout",
          "output_type": "stream",
          "text": [
            "Enter the number to check positive, negative or zero : 0\n",
            "Zero.\n"
          ]
        }
      ],
      "source": [
        "# 3.1\n",
        "a=int(input(\"Enter the number to check positive, negative or zero : \"))\n",
        "if(a>0):\n",
        "  print(\"Positive number.\")\n",
        "elif(a<0):\n",
        "  print(\"Negative number.\")\n",
        "else:\n",
        "  print(\"Zero.\")"
      ]
    },
    {
      "cell_type": "code",
      "execution_count": 4,
      "metadata": {
        "colab": {
          "base_uri": "https://localhost:8080/"
        },
        "id": "2Jbeu1PXnrNN",
        "outputId": "e2d74468-2dda-46f9-86c1-2b250d8e1317"
      },
      "outputs": [
        {
          "name": "stdout",
          "output_type": "stream",
          "text": [
            "Enter the number to check even or odd: 4\n",
            "Even nummber.\n"
          ]
        }
      ],
      "source": [
        "# 3.2\n",
        "a=int(input(\"Enter the number to check even or odd: \"))\n",
        "if(a%2==0):\n",
        "  print(\"Even nummber.\")\n",
        "else:\n",
        "  print(\"Odd Number.\")\n"
      ]
    },
    {
      "cell_type": "code",
      "execution_count": 5,
      "metadata": {
        "colab": {
          "base_uri": "https://localhost:8080/"
        },
        "id": "LBQIYrGqodHg",
        "outputId": "0c7434a5-667a-40bb-a849-cb0cb24d1562"
      },
      "outputs": [
        {
          "name": "stdout",
          "output_type": "stream",
          "text": [
            "1\n",
            "2\n",
            "3\n",
            "4\n",
            "5\n",
            "6\n",
            "7\n",
            "8\n",
            "9\n",
            "10\n"
          ]
        }
      ],
      "source": [
        "# 4.1\n",
        "for a in range(1,11):\n",
        "  print(a)\n"
      ]
    },
    {
      "cell_type": "code",
      "execution_count": 6,
      "metadata": {
        "colab": {
          "base_uri": "https://localhost:8080/"
        },
        "id": "tmqWZqXgo-9Y",
        "outputId": "8388e5e7-3df7-40e5-aba4-3850ea4a719b"
      },
      "outputs": [
        {
          "name": "stdout",
          "output_type": "stream",
          "text": [
            "1\n",
            "2\n",
            "3\n",
            "4\n",
            "5\n",
            "6\n",
            "7\n",
            "8\n",
            "9\n",
            "10\n"
          ]
        }
      ],
      "source": [
        "# 4.2\n",
        "a=1\n",
        "while a<=10:\n",
        "  print(a)\n",
        "  a+=1\n"
      ]
    },
    {
      "cell_type": "code",
      "execution_count": null,
      "metadata": {},
      "outputs": [],
      "source": [
        "# 4.3\n",
        "sum=0\n",
        "for a in range(1,101):\n",
        "  sum=sum+a\n",
        "print(sum)"
      ]
    },
    {
      "cell_type": "code",
      "execution_count": 7,
      "metadata": {
        "colab": {
          "base_uri": "https://localhost:8080/"
        },
        "id": "nLa9usISpTf9",
        "outputId": "fbb778de-186f-479d-b80c-57428db4fc6e"
      },
      "outputs": [
        {
          "name": "stdout",
          "output_type": "stream",
          "text": [
            "Largest number in the list is 8\n",
            "Smallest number in the list is 2\n"
          ]
        }
      ],
      "source": [
        "# 5.1\n",
        "li=[6,2,3,8,7]\n",
        "print(f\"Largest number in the list is {max(li)}\")\n",
        "print(f\"Smallest number in the list is {min(li)}\")"
      ]
    },
    {
      "cell_type": "code",
      "execution_count": 8,
      "metadata": {
        "colab": {
          "base_uri": "https://localhost:8080/"
        },
        "id": "JNutbhwNrLJl",
        "outputId": "1623f47a-d3b3-4cfa-cc10-b4ef0384347a"
      },
      "outputs": [
        {
          "name": "stdout",
          "output_type": "stream",
          "text": [
            "Enter the key you want the value of : Name\n",
            "Value corresponding to the key Name is Krish Arora\n"
          ]
        }
      ],
      "source": [
        "# 5.2\n",
        "pairs = {\n",
        "    \"Name\":\"Krish Arora\",\n",
        "    \"Roll no.\":7281,\n",
        "    \"Age\":19\n",
        "}\n",
        "\n",
        "a=input(\"Enter the key you want the value of : \")\n",
        "print(f\"Value corresponding to the key {a} is {pairs[a]}\")"
      ]
    },
    {
      "cell_type": "code",
      "execution_count": 9,
      "metadata": {
        "colab": {
          "base_uri": "https://localhost:8080/"
        },
        "id": "THgvIvh8spxm",
        "outputId": "27b6ec65-0048-4c99-e73b-a0223d00cc55"
      },
      "outputs": [
        {
          "name": "stdout",
          "output_type": "stream",
          "text": [
            "Ascending order : [1, 2, 3, 5, 6, 7, 8]\n",
            "Descending order : [8, 7, 6, 5, 3, 2, 1]\n"
          ]
        }
      ],
      "source": [
        "# 5.3\n",
        "li=[5,3,2,6,1,8,7]\n",
        "sortA=sorted(li)\n",
        "sortD=sorted(li,reverse=True)\n",
        "print(f\"Ascending order : {sortA}\")\n",
        "print(f\"Descending order : {sortD}\")"
      ]
    },
    {
      "cell_type": "code",
      "execution_count": 10,
      "metadata": {
        "colab": {
          "base_uri": "https://localhost:8080/"
        },
        "id": "j7-CeD-DtZhi",
        "outputId": "41bd877a-bcfd-4ec3-9108-96ea742ad109"
      },
      "outputs": [
        {
          "name": "stdout",
          "output_type": "stream",
          "text": [
            "{'Name': 'Krish Arora', 'Age': 19}\n"
          ]
        }
      ],
      "source": [
        "# 5.4\n",
        "d1={\n",
        "    \"Name\":\"Krish Arora\",\n",
        "}\n",
        "d2={\n",
        "    \"Age\":19\n",
        "}\n",
        "d1.update(d2) #d1 gets the pairs in d2 added to it\n",
        "print(d1)"
      ]
    },
    {
      "cell_type": "code",
      "execution_count": 11,
      "metadata": {
        "colab": {
          "base_uri": "https://localhost:8080/"
        },
        "id": "5HTJ2gYJueZZ",
        "outputId": "778d4d60-48e5-4a80-dfa0-bead1df88dbd"
      },
      "outputs": [
        {
          "name": "stdout",
          "output_type": "stream",
          "text": [
            "Enter the string : Krish Arora\n",
            "Number of vowels : 4\n"
          ]
        }
      ],
      "source": [
        "# 6.1\n",
        "str=input(\"Enter the string : \")\n",
        "n=0\n",
        "for char in str:\n",
        "  if char.lower() in \"aeiou\":\n",
        "    n+=1\n",
        "print(f\"Number of vowels : {n}\")"
      ]
    },
    {
      "cell_type": "code",
      "execution_count": 12,
      "metadata": {
        "colab": {
          "base_uri": "https://localhost:8080/"
        },
        "id": "_jwyMNB-vvTt",
        "outputId": "79f2d8cc-a36e-459a-801f-d87c59fd1e86"
      },
      "outputs": [
        {
          "name": "stdout",
          "output_type": "stream",
          "text": [
            "Enter the string : Krish\n",
            "hsirK\n"
          ]
        }
      ],
      "source": [
        "# 6.2\n",
        "str=input(\"Enter the string : \")\n",
        "str=str[::-1]\n",
        "print(str)"
      ]
    },
    {
      "cell_type": "code",
      "execution_count": 13,
      "metadata": {
        "colab": {
          "base_uri": "https://localhost:8080/"
        },
        "id": "faJwi5Vdyahn",
        "outputId": "aa772295-809b-4b68-a544-8c3b50d3b506"
      },
      "outputs": [
        {
          "name": "stdout",
          "output_type": "stream",
          "text": [
            "Enter the string : arora\n",
            "It is a palindrome.\n"
          ]
        }
      ],
      "source": [
        "# 6.3\n",
        "str=input(\"Enter the string : \")\n",
        "if(str==str[::-1]):\n",
        "  print(\"It is a palindrome.\")\n",
        "else:\n",
        "  print(\"Not a palindrome.\")\n"
      ]
    },
    {
      "cell_type": "code",
      "execution_count": 14,
      "metadata": {
        "colab": {
          "base_uri": "https://localhost:8080/"
        },
        "id": "eusUW3mbeC2_",
        "outputId": "7f101ee8-355a-499d-dd1b-0c8657a411e6"
      },
      "outputs": [
        {
          "name": "stdout",
          "output_type": "stream",
          "text": [
            "Content of the file : \n",
            "Hello I am Krish.\n",
            "This is file handling in python.\n"
          ]
        }
      ],
      "source": [
        "# 7.1\n",
        "filename='file1.txt'\n",
        "with open(filename,'w') as file:\n",
        "  file.write(\"Hello I am Krish.\\n\")\n",
        "  file.write(\"This is file handling in python.\")\n",
        "\n",
        "with open(filename,'r') as file:\n",
        "  content=file.read()\n",
        "\n",
        "print(\"Content of the file : \")\n",
        "print(content)\n"
      ]
    },
    {
      "cell_type": "code",
      "execution_count": 15,
      "metadata": {
        "colab": {
          "base_uri": "https://localhost:8080/"
        },
        "id": "0jj6sy3Ifb40",
        "outputId": "f6d12710-72b5-4018-85c4-707f19a97ca9"
      },
      "outputs": [
        {
          "name": "stdout",
          "output_type": "stream",
          "text": [
            "Updated content : \n",
            "Hello I am Krish.\n",
            "This is file handling in python.\n",
            "This is the new line added in append mode.\n"
          ]
        }
      ],
      "source": [
        "# 7.2\n",
        "filename=\"file1.txt\"\n",
        "with open(filename,'a') as file:\n",
        "  file.write(\"\\nThis is the new line added in append mode.\")\n",
        "with open(filename,'r') as file:\n",
        "  updated=file.read()\n",
        "\n",
        "print(\"Updated content : \")\n",
        "print(updated)"
      ]
    },
    {
      "cell_type": "code",
      "execution_count": 16,
      "metadata": {
        "colab": {
          "base_uri": "https://localhost:8080/"
        },
        "id": "OtJCjjRPguQP",
        "outputId": "d723713a-e3fe-4673-97b9-49445de878db"
      },
      "outputs": [
        {
          "name": "stdout",
          "output_type": "stream",
          "text": [
            "Line count of file is 3\n"
          ]
        }
      ],
      "source": [
        "# 7.3\n",
        "filename=\"file1.txt\"\n",
        "\n",
        "with open(filename,'r') as file:\n",
        "  lineCount=sum(1 for line in file)\n",
        "\n",
        "print(f\"Line count of file is {lineCount}\")"
      ]
    },
    {
      "cell_type": "code",
      "execution_count": 17,
      "metadata": {
        "colab": {
          "base_uri": "https://localhost:8080/"
        },
        "id": "f9rRM_8ZidOI",
        "outputId": "f4ff08de-0c72-4234-cf3a-1f8a8c910e5c"
      },
      "outputs": [
        {
          "name": "stdout",
          "output_type": "stream",
          "text": [
            "Enter the numenator : 4\n",
            "Enter the denominator : 0\n",
            "Denominator can't be zero.\n"
          ]
        }
      ],
      "source": [
        "3# 8.1\n",
        "a=int(input(\"Enter the numenator : \"))\n",
        "b=int(input(\"Enter the denominator : \"))\n",
        "\n",
        "try:\n",
        "  ans=a/b\n",
        "  print(ans)\n",
        "\n",
        "except ZeroDivisionError:\n",
        "  print(\"Denominator can't be zero.\")\n"
      ]
    },
    {
      "cell_type": "code",
      "execution_count": 18,
      "metadata": {
        "colab": {
          "base_uri": "https://localhost:8080/"
        },
        "id": "S2bTDbctxJll",
        "outputId": "7cf25d92-2c5b-4ee8-8717-b7143dc61342"
      },
      "outputs": [
        {
          "name": "stdout",
          "output_type": "stream",
          "text": [
            "Enter a number : hey\n",
            "Enter a valid number.\n",
            "Enter a number : hello\n",
            "Enter a valid number.\n",
            "Enter a number : 4\n",
            "Your number is  : 4\n"
          ]
        }
      ],
      "source": [
        "# 8.2\n",
        "while True:\n",
        "  try:\n",
        "    a=int(input(\"Enter a number : \"))\n",
        "    print(f\"Your number is  : {a}\")\n",
        "    break\n",
        "  except ValueError:\n",
        "    print(\"Enter a valid number.\")\n",
        "\n",
        "\n"
      ]
    },
    {
      "cell_type": "code",
      "execution_count": 19,
      "metadata": {
        "colab": {
          "base_uri": "https://localhost:8080/"
        },
        "id": "HFl0DNKpygju",
        "outputId": "19c2d425-191b-4ed7-d60f-cf97a73989b3"
      },
      "outputs": [
        {
          "name": "stdout",
          "output_type": "stream",
          "text": [
            "Enter the numenator : 4\n",
            "Enter the denominator : 0\n",
            "Denominator can't be zero.\n",
            "Execution Complete\n"
          ]
        }
      ],
      "source": [
        "# 8.3\n",
        "a=int(input(\"Enter the numenator : \"))\n",
        "b=int(input(\"Enter the denominator : \"))\n",
        "\n",
        "try:\n",
        "  ans=a/b\n",
        "  print(ans)\n",
        "\n",
        "except ZeroDivisionError:\n",
        "  print(\"Denominator can't be zero.\")\n",
        "\n",
        "finally:\n",
        "  print(\"Execution Complete\")"
      ]
    },
    {
      "cell_type": "code",
      "execution_count": 20,
      "metadata": {
        "colab": {
          "base_uri": "https://localhost:8080/"
        },
        "id": "Ug6UveINy2Z4",
        "outputId": "a8ca92c0-37dd-4496-b0a5-dcc62dea85bf"
      },
      "outputs": [
        {
          "name": "stdout",
          "output_type": "stream",
          "text": [
            "[94, 34, 14, 86, 77]\n"
          ]
        }
      ],
      "source": [
        "# 9.1\n",
        "import random\n",
        "\n",
        "r=random.sample(range(1,101),5)\n",
        "print(r)\n"
      ]
    },
    {
      "cell_type": "code",
      "execution_count": 21,
      "metadata": {
        "colab": {
          "base_uri": "https://localhost:8080/"
        },
        "id": "tDk8BA510q4V",
        "outputId": "fbd2b9c6-bb47-4a72-a324-ce3e2f24fa63"
      },
      "outputs": [
        {
          "name": "stdout",
          "output_type": "stream",
          "text": [
            "Random Number: 16\n",
            "Is Prime: False\n"
          ]
        }
      ],
      "source": [
        "# 9.2\n",
        "import random\n",
        "\n",
        "def isPrime(n):\n",
        "    if n<2:\n",
        "        return False\n",
        "    for i in range(2,int(n**0.5)+1):\n",
        "        if n%i==0:\n",
        "            return False\n",
        "    return True\n",
        "\n",
        "\n",
        "n = random.randint(1,100)\n",
        "print(f\"Random Number: {n}\")\n",
        "print(f\"Is Prime: {isPrime(n)}\")\n",
        "\n"
      ]
    },
    {
      "cell_type": "code",
      "execution_count": 22,
      "metadata": {
        "colab": {
          "base_uri": "https://localhost:8080/"
        },
        "id": "0rXv9L7r214e",
        "outputId": "177e86c1-b977-460a-9c90-7f08dd7d588b"
      },
      "outputs": [
        {
          "name": "stdout",
          "output_type": "stream",
          "text": [
            "Number: 2\n"
          ]
        }
      ],
      "source": [
        "# 9.3\n",
        "import random\n",
        "\n",
        "\n",
        "n = random.randint(1,6)\n",
        "print(f\"Number: {n}\")\n"
      ]
    },
    {
      "cell_type": "code",
      "execution_count": 23,
      "metadata": {
        "colab": {
          "base_uri": "https://localhost:8080/"
        },
        "id": "awYzjKWv3Sfn",
        "outputId": "3314ac7b-ec59-41f1-8cfe-fff9a4dfae77"
      },
      "outputs": [
        {
          "name": "stdout",
          "output_type": "stream",
          "text": [
            "Shuffled list : [3, 6, 7, 8, 10, 4, 1, 5, 9, 2]\n"
          ]
        }
      ],
      "source": [
        "# 9.4\n",
        "import random\n",
        "\n",
        "li=[1,2,3,4,5,6,7,8,9,10]\n",
        "random.shuffle(li)\n",
        "print(f\"Shuffled list : {li}\")\n"
      ]
    },
    {
      "cell_type": "code",
      "execution_count": 24,
      "metadata": {
        "colab": {
          "base_uri": "https://localhost:8080/"
        },
        "id": "3GODvc3e38rl",
        "outputId": "880dc65f-c517-48d1-ddcc-bee803042ef8"
      },
      "outputs": [
        {
          "name": "stdout",
          "output_type": "stream",
          "text": [
            "Randomly selected item : 6\n"
          ]
        }
      ],
      "source": [
        "# 9.5\n",
        "import random\n",
        "li=[3,\"Krish\",6,4,\"Arora\",6.4]\n",
        "a=random.choice(li)\n",
        "print(f\"Randomly selected item : {a}\")\n"
      ]
    },
    {
      "cell_type": "code",
      "execution_count": 30,
      "metadata": {
        "colab": {
          "base_uri": "https://localhost:8080/"
        },
        "id": "O0QVZjLa5G5h",
        "outputId": "a0fd6a53-ff50-4086-cdc2-3ca873b892ba"
      },
      "outputs": [
        {
          "name": "stdout",
          "output_type": "stream",
          "text": [
            "Enter the length of password you want : 4\n",
            "Randomly generated password : YN]@\n"
          ]
        }
      ],
      "source": [
        "# 9.6\n",
        "import random\n",
        "import string\n",
        "\n",
        "all=string.ascii_letters+string.digits+string.punctuation\n",
        "pwd=\"\"\n",
        "l=int(input(\"Enter the length of password you want : \"))\n",
        "for _ in range(l):\n",
        "  pwd+=random.choice(all)\n",
        "\n",
        "print(f\"Randomly generated password : {pwd}\")\n",
        "\n"
      ]
    },
    {
      "cell_type": "code",
      "execution_count": 26,
      "metadata": {
        "colab": {
          "base_uri": "https://localhost:8080/"
        },
        "id": "gmshBsgO7B0E",
        "outputId": "33d7c3fb-5d52-4d7d-d637-0fe8f7e3657c"
      },
      "outputs": [
        {
          "name": "stdout",
          "output_type": "stream",
          "text": [
            "4 of Clubs\n"
          ]
        }
      ],
      "source": [
        "# 9.7\n",
        "import random\n",
        "n=['A','2','3','4','5','6','7','8','9','10','J','Q','K',]\n",
        "suits = ['Hearts','Diamonds','Clubs','Spades']\n",
        "\n",
        "a=random.choice(n)\n",
        "b=random.choice(suits)\n",
        "\n",
        "print(f\"{a} of {b}\")"
      ]
    },
    {
      "cell_type": "code",
      "execution_count": 1,
      "metadata": {
        "colab": {
          "base_uri": "https://localhost:8080/"
        },
        "id": "8VErAf3R5w8_",
        "outputId": "1d7796b5-638c-4eca-d78f-2e82d8db2761"
      },
      "outputs": [
        {
          "name": "stdout",
          "output_type": "stream",
          "text": [
            "The sum of 5 and 6 is 11\n"
          ]
        }
      ],
      "source": [
        "# 10.1\n",
        "import sys\n",
        "\n",
        "sys.argv = ['program.py','5','6']\n",
        "\n",
        "if len(sys.argv) != 3:\n",
        "    print(\"Usage: python program.py <num1> <num2>\")\n",
        "    sys.exit(1)\n",
        "\n",
        "try:\n",
        "    a=int(sys.argv[1])\n",
        "    b=int(sys.argv[2])\n",
        "\n",
        "    result=a+b\n",
        "\n",
        "    print(f\"The sum of {a} and {b} is {result}\")\n",
        "except ValueError:\n",
        "    print(\"Please provide valid numbers as input.\")\n",
        "    sys.exit(1)\n"
      ]
    },
    {
      "cell_type": "code",
      "execution_count": 2,
      "metadata": {
        "colab": {
          "base_uri": "https://localhost:8080/"
        },
        "id": "KaeZdz4j7Mbj",
        "outputId": "34df5d27-c553-41dd-9465-a33c3e83e39e"
      },
      "outputs": [
        {
          "name": "stdout",
          "output_type": "stream",
          "text": [
            "The length of the string is: 4\n"
          ]
        }
      ],
      "source": [
        "# 10.2\n",
        "import sys\n",
        "\n",
        "sys.argv = ['program.py','WOW!']\n",
        "\n",
        "if len(sys.argv) != 2:\n",
        "    print(\"Usage: python program.py <string>\")\n",
        "else:\n",
        "    str= sys.argv[1]\n",
        "    print(f\"The length of the string is: {len(str)}\")\n"
      ]
    },
    {
      "cell_type": "code",
      "execution_count": 3,
      "metadata": {
        "colab": {
          "base_uri": "https://localhost:8080/"
        },
        "id": "H6Gz8lenzTnm",
        "outputId": "96369f6e-a697-4233-9b09-fb2b926fc1f2"
      },
      "outputs": [
        {
          "name": "stdout",
          "output_type": "stream",
          "text": [
            "Enter a number to calculate the square root : -4\n",
            "Enter a valid number.\n",
            "Enter a number to calculate the square root : 4\n",
            "The Square Root of 4 is 2.0\n"
          ]
        }
      ],
      "source": [
        "# 11.1\n",
        "import math\n",
        "while True:\n",
        "  try:\n",
        "    a=int(input(\"Enter a number to calculate the square root : \"))\n",
        "    sqr=math.sqrt(a)\n",
        "    print(f\"The Square Root of {a} is {sqr}\")\n",
        "    break\n",
        "  except ValueError:\n",
        "    print(\"Enter a valid number.\")\n",
        "\n"
      ]
    },
    {
      "cell_type": "code",
      "execution_count": 4,
      "metadata": {
        "colab": {
          "base_uri": "https://localhost:8080/"
        },
        "id": "PY2ZRl4J093g",
        "outputId": "d2223936-19f1-43fa-f73a-fff0896f1e3b"
      },
      "outputs": [
        {
          "name": "stdout",
          "output_type": "stream",
          "text": [
            "12-Jan-2025 10:15 AM\n"
          ]
        }
      ],
      "source": [
        "# 11.2\n",
        "import datetime\n",
        "\n",
        "a = datetime.datetime.now()\n",
        "print(a.strftime(\"%d-%b-%Y %I:%M %p\"))"
      ]
    },
    {
      "cell_type": "code",
      "execution_count": 5,
      "metadata": {
        "colab": {
          "base_uri": "https://localhost:8080/"
        },
        "id": "sscaORoY2Qrv",
        "outputId": "b155b2bf-0e0a-4834-9bfb-f6b236b0ec11"
      },
      "outputs": [
        {
          "name": "stdout",
          "output_type": "stream",
          "text": [
            "Files in the current directory /content:\n",
            "file1.txt\n"
          ]
        }
      ],
      "source": [
        "# 11.3\n",
        "import os\n",
        "\n",
        "cd=os.getcwd()\n",
        "\n",
        "\n",
        "allFiles = [file for file in os.listdir(cd) if os.path.isfile(file)]\n",
        "\n",
        "print(f\"Files in the current directory {cd}:\")\n",
        "for file in allFiles:\n",
        "    print(file)\n"
      ]
    }
  ],
  "metadata": {
    "colab": {
      "provenance": []
    },
    "kernelspec": {
      "display_name": "Python 3",
      "name": "python3"
    },
    "language_info": {
      "name": "python"
    }
  },
  "nbformat": 4,
  "nbformat_minor": 0
}
