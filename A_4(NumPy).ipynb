{
  "nbformat": 4,
  "nbformat_minor": 0,
  "metadata": {
    "colab": {
      "provenance": []
    },
    "kernelspec": {
      "name": "python3",
      "display_name": "Python 3"
    },
    "language_info": {
      "name": "python"
    }
  },
  "cells": [
    {
      "cell_type": "code",
      "execution_count": 2,
      "metadata": {
        "colab": {
          "base_uri": "https://localhost:8080/"
        },
        "id": "3WP4ZlGdjPOt",
        "outputId": "cf866f70-72ad-4b69-bf85-c5e2f48106ce"
      },
      "outputs": [
        {
          "output_type": "stream",
          "name": "stdout",
          "text": [
            "Original Array: [1 2 3 4 5]\n",
            "After Addition: [3 4 5 6 7]\n",
            "After Multiplication: [ 3  6  9 12 15]\n",
            "After Division: [0.5 1.  1.5 2.  2.5]\n"
          ]
        }
      ],
      "source": [
        "import numpy as np\n",
        "\n",
        "# Q1\n",
        "arr = np.array([1, 2, 3, 4, 5])\n",
        "\n",
        "arr_add = arr + 2\n",
        "\n",
        "arr_mul = arr * 3\n",
        "\n",
        "arr_div = arr / 2\n",
        "\n",
        "print(\"Original Array:\", arr)\n",
        "print(\"After Addition:\", arr_add)\n",
        "print(\"After Multiplication:\", arr_mul)\n",
        "print(\"After Division:\", arr_div)"
      ]
    },
    {
      "cell_type": "code",
      "source": [
        "\n",
        "import numpy as np\n",
        "\n",
        "# Q2 a)\n",
        "arr_rev = np.array([1, 2, 3, 6, 4, 5])[::-1]\n",
        "print(\"Reversed Array:\", arr_rev)\n",
        "\n",
        "# b)\n",
        "def most_frequent(arr):\n",
        "    values, counts = np.unique(arr, return_counts=True)\n",
        "    max_count = np.max(counts)\n",
        "    most_freq_value = values[np.argmax(counts)]\n",
        "    indices = np.where(arr == most_freq_value)[0]\n",
        "    return most_freq_value, indices\n",
        "\n",
        "x = np.array([1,2,3,4,5,1,2,1,1,1])\n",
        "y = np.array([1, 1, 1, 2, 3, 4, 2, 4, 3, 3])\n",
        "\n",
        "most_x, indices_x = most_frequent(x)\n",
        "most_y, indices_y = most_frequent(y)\n",
        "print(f\"Most frequent in x: {most_x}, Indices: {indices_x}\")\n",
        "print(f\"Most frequent in y: {most_y}, Indices: {indices_y}\")"
      ],
      "metadata": {
        "colab": {
          "base_uri": "https://localhost:8080/"
        },
        "id": "VHVY6R-XjSSV",
        "outputId": "bff40910-b7b2-4320-82c2-0c3e6a0ed482"
      },
      "execution_count": 3,
      "outputs": [
        {
          "output_type": "stream",
          "name": "stdout",
          "text": [
            "Reversed Array: [5 4 6 3 2 1]\n",
            "Most frequent in x: 1, Indices: [0 5 7 8 9]\n",
            "Most frequent in y: 1, Indices: [0 1 2]\n"
          ]
        }
      ]
    },
    {
      "cell_type": "code",
      "source": [
        "import numpy as np\n",
        "# Q3\n",
        "arr = np.array([[10, 20, 30], [40, 50, 60], [70, 80, 90]])\n",
        "\n",
        "el_1_2 = arr[0, 1]\n",
        "\n",
        "el_3_1 = arr[2, 0]\n",
        "\n",
        "print(\"Element at (1,2):\", el_1_2)\n",
        "print(\"Element at (3,1):\", el_3_1)"
      ],
      "metadata": {
        "colab": {
          "base_uri": "https://localhost:8080/"
        },
        "id": "WAZ9iqTyjaPu",
        "outputId": "1bdc9845-14bf-430d-ddf1-1faf3c20e711"
      },
      "execution_count": 4,
      "outputs": [
        {
          "output_type": "stream",
          "name": "stdout",
          "text": [
            "Element at (1,2): 20\n",
            "Element at (3,1): 70\n"
          ]
        }
      ]
    },
    {
      "cell_type": "code",
      "source": [
        "import numpy as np\n",
        "\n",
        "# Q4\n",
        "krish_arora = np.linspace(10, 100, 25)\n",
        "\n",
        "print(\"Dimensions:\", krish_arora.ndim)\n",
        "print(\"Shape:\", krish_arora.shape)\n",
        "print(\"Total Elements:\", krish_arora.size)\n",
        "print(\"Data Type:\", krish_arora.dtype)\n",
        "print(\"Total Bytes Consumed:\", krish_arora.nbytes)\n",
        "\n",
        "transposed_array = krish_arora.reshape(25, 1)\n",
        "print(\"Transposed Array using reshape:\\n\", transposed_array)\n",
        "\n",
        "# Can we do the same with T attribute?\n",
        "print(\"Using T attribute:\\n\", krish_arora.T)  # Not applicable for 1D array"
      ],
      "metadata": {
        "colab": {
          "base_uri": "https://localhost:8080/"
        },
        "id": "UBkCLqWdjeON",
        "outputId": "1c43b64d-6bba-4c38-caf7-4daae430120c"
      },
      "execution_count": 5,
      "outputs": [
        {
          "output_type": "stream",
          "name": "stdout",
          "text": [
            "Dimensions: 1\n",
            "Shape: (25,)\n",
            "Total Elements: 25\n",
            "Data Type: float64\n",
            "Total Bytes Consumed: 200\n",
            "Transposed Array using reshape:\n",
            " [[ 10.  ]\n",
            " [ 13.75]\n",
            " [ 17.5 ]\n",
            " [ 21.25]\n",
            " [ 25.  ]\n",
            " [ 28.75]\n",
            " [ 32.5 ]\n",
            " [ 36.25]\n",
            " [ 40.  ]\n",
            " [ 43.75]\n",
            " [ 47.5 ]\n",
            " [ 51.25]\n",
            " [ 55.  ]\n",
            " [ 58.75]\n",
            " [ 62.5 ]\n",
            " [ 66.25]\n",
            " [ 70.  ]\n",
            " [ 73.75]\n",
            " [ 77.5 ]\n",
            " [ 81.25]\n",
            " [ 85.  ]\n",
            " [ 88.75]\n",
            " [ 92.5 ]\n",
            " [ 96.25]\n",
            " [100.  ]]\n",
            "Using T attribute:\n",
            " [ 10.    13.75  17.5   21.25  25.    28.75  32.5   36.25  40.    43.75\n",
            "  47.5   51.25  55.    58.75  62.5   66.25  70.    73.75  77.5   81.25\n",
            "  85.    88.75  92.5   96.25 100.  ]\n"
          ]
        }
      ]
    },
    {
      "cell_type": "code",
      "source": [
        "import numpy as np\n",
        "\n",
        "# Q5\n",
        "ucs420_krish = np.array([[10, 20, 30, 40], [50, 60, 70, 80], [90, 15, 20, 35]])\n",
        "\n",
        "# Compute statistics\n",
        "mean_val = np.mean(ucs420_krish)\n",
        "median_val = np.median(ucs420_krish)\n",
        "max_val = np.max(ucs420_krish)\n",
        "min_val = np.min(ucs420_krish)\n",
        "unique_vals = np.unique(ucs420_krish)\n",
        "\n",
        "print(\"Mean:\", mean_val)\n",
        "print(\"Median:\", median_val)\n",
        "print(\"Max:\", max_val)\n",
        "print(\"Min:\", min_val)\n",
        "print(\"Unique Elements:\", unique_vals)\n",
        "\n",
        "# Reshape to 4 rows and 3 columns\n",
        "reshaped_ucs420_krish = ucs420_krish.reshape(4, 3)\n",
        "print(\"Reshaped Array:\\n\", reshaped_ucs420_krish)\n",
        "\n",
        "# Resize to 2 rows and 3 columns\n",
        "resized_ucs420_krish = np.resize(ucs420_krish, (2, 3))\n",
        "print(\"Resized Array:\\n\", resized_ucs420_krish)\n"
      ],
      "metadata": {
        "colab": {
          "base_uri": "https://localhost:8080/"
        },
        "id": "3Vl819RRjh3Y",
        "outputId": "4674d11d-3aeb-4c11-9f07-89500d74176d"
      },
      "execution_count": 6,
      "outputs": [
        {
          "output_type": "stream",
          "name": "stdout",
          "text": [
            "Mean: 43.333333333333336\n",
            "Median: 37.5\n",
            "Max: 90\n",
            "Min: 10\n",
            "Unique Elements: [10 15 20 30 35 40 50 60 70 80 90]\n",
            "Reshaped Array:\n",
            " [[10 20 30]\n",
            " [40 50 60]\n",
            " [70 80 90]\n",
            " [15 20 35]]\n",
            "Resized Array:\n",
            " [[10 20 30]\n",
            " [40 50 60]]\n"
          ]
        }
      ]
    }
  ]
}