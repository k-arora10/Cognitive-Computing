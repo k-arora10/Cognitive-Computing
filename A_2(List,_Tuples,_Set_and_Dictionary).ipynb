{
  "cells": [
    {
      "cell_type": "code",
      "execution_count": 1,
      "metadata": {
        "colab": {
          "base_uri": "https://localhost:8080/"
        },
        "id": "q67fzu1N0qyu",
        "outputId": "ba2e92b5-6063-4a1a-9aca-517ee5c8f9ea"
      },
      "outputs": [
        {
          "output_type": "stream",
          "name": "stdout",
          "text": [
            "After adding 200 and 300: [10, 20, 30, 40, 50, 60, 70, 80, 200, 300]\n",
            "After removing 10 and 30: [20, 40, 50, 60, 70, 80, 200, 300]\n",
            "Sorted in ascending order: [20, 40, 50, 60, 70, 80, 200, 300]\n",
            "Sorted in descending order: [300, 200, 80, 70, 60, 50, 40, 20]\n"
          ]
        }
      ],
      "source": [
        "L=[10, 20, 30, 40, 50, 60, 70, 80]\n",
        "\n",
        "L.append(200)\n",
        "L.append(300)\n",
        "print(\"After adding 200 and 300:\", L)\n",
        "\n",
        "L.remove(10)\n",
        "L.remove(30)\n",
        "print(\"After removing 10 and 30:\", L)\n",
        "\n",
        "L.sort()\n",
        "print(\"Sorted in ascending order:\", L)\n",
        "\n",
        "L.sort(reverse=True)\n",
        "print(\"Sorted in descending order:\", L)\n"
      ]
    },
    {
      "cell_type": "code",
      "source": [
        "scores=(45, 89.5, 76, 45.4, 89, 92, 58, 45)\n",
        "\n",
        "a=scores.index(max(scores))\n",
        "print(f\"Index of max element : {a}\")\n",
        "\n",
        "b=scores.count(min(scores))\n",
        "print(f\"No. of times the minimum element occurs : {b}\")\n",
        "\n",
        "L=list(scores[::-1])\n",
        "print(f\"List of reversed Tuple : {L}\")\n",
        "\n",
        "s=int(input(\"Enter the score to check for : \"))\n",
        "if s in scores:\n",
        "  print(f\"Index at which score {s} is found : {scores.index(s)}\")\n",
        "else:\n",
        "  print(f\"Score {s} not in the tuple\")"
      ],
      "metadata": {
        "colab": {
          "base_uri": "https://localhost:8080/"
        },
        "id": "IWsBPxAlsf2R",
        "outputId": "04286bb6-6cbc-4292-eb1a-cad400ad3080"
      },
      "execution_count": 7,
      "outputs": [
        {
          "output_type": "stream",
          "name": "stdout",
          "text": [
            "Index of max element : 5\n",
            "No. of times the minimum element occurs : 2\n",
            "List of reversed Tuple : [45, 58, 92, 89, 45.4, 76, 89.5, 45]\n",
            "Enter the score to check for : 76\n",
            "Index at which score 76 is found : 2\n"
          ]
        }
      ]
    },
    {
      "cell_type": "code",
      "source": [
        "import random\n",
        "\n",
        "def isPrime(num):\n",
        "  if num<2:\n",
        "    return False\n",
        "  for i in range(2,int(num**0.5)+1):\n",
        "    if num%i==0:\n",
        "      return False\n",
        "  return True\n",
        "\n",
        "numbers=random.sample(range(100,901),100)\n",
        "\n",
        "even=[num for num in numbers if num%2==0]\n",
        "odd=[num for num in numbers if num%2!=0]\n",
        "prime=[num for num in numbers if isPrime(num)]\n",
        "\n",
        "print(f\"Count of odd numbers : {len(odd)}\")\n",
        "print(f\"Odd numbers : {odd}\\n\")\n",
        "\n",
        "print(f\"Count of even numbers : {len(even)}\")\n",
        "print(f\"Even numbers : {even}\\n\")\n",
        "\n",
        "print(f\"Count of prime numbers : {len(prime)}\")\n",
        "print(f\"Prime numbers : {prime}\")\n",
        "\n"
      ],
      "metadata": {
        "colab": {
          "base_uri": "https://localhost:8080/"
        },
        "id": "zxdYj4sTyLOM",
        "outputId": "f119d98d-7bdd-4523-e9fc-a3239c835266"
      },
      "execution_count": 14,
      "outputs": [
        {
          "output_type": "stream",
          "name": "stdout",
          "text": [
            "Count of odd numbers : 48\n",
            "Odd numbers : [567, 539, 733, 759, 685, 861, 845, 781, 317, 345, 497, 207, 581, 429, 613, 459, 113, 609, 663, 809, 433, 863, 455, 435, 255, 599, 835, 489, 695, 825, 363, 463, 765, 365, 277, 419, 741, 525, 117, 805, 197, 409, 813, 531, 325, 615, 649, 267]\n",
            "\n",
            "Count of even numbers : 52\n",
            "Even numbers : [184, 828, 126, 390, 552, 540, 326, 648, 494, 324, 724, 642, 220, 536, 626, 810, 500, 820, 260, 780, 560, 718, 402, 574, 706, 414, 430, 448, 696, 308, 290, 516, 664, 528, 714, 150, 396, 628, 208, 416, 392, 826, 616, 634, 748, 872, 832, 276, 632, 800, 280, 328]\n",
            "\n",
            "Count of prime numbers : 13\n",
            "Prime numbers : [733, 317, 613, 113, 809, 433, 863, 599, 463, 277, 419, 197, 409]\n"
          ]
        }
      ]
    },
    {
      "cell_type": "code",
      "source": [
        "A = {34, 56, 78, 90}\n",
        "B = {78, 45, 90, 23}\n",
        "\n",
        "uniqueScores=A.union(B)\n",
        "print(f\"Unique Scores : {uniqueScores}\")\n",
        "\n",
        "commonScores=A.intersection(B)\n",
        "print(f\"Common Scores : {commonScores}\")\n",
        "\n",
        "exclusiveScores=A.symmetric_difference(B)\n",
        "print(f\"Exclusive Scores : {exclusiveScores}\")\n",
        "\n",
        "aSubsetB=A.issubset(B)\n",
        "print(f\"Is A subset of B : {aSubsetB}\")\n",
        "bsupersetA=B.issuperset(A)\n",
        "print(f\"Is B superset of A : {bsupersetA}\")\n",
        "s=int(input(\"Enter Score to remove from A : \"))\n",
        "if s in A:\n",
        "  A.remove(s)\n",
        "  print(f\"After removing {s} A: {A}\")\n",
        "else:\n",
        "  print(f\"Score {s} not present in set A\")\n"
      ],
      "metadata": {
        "colab": {
          "base_uri": "https://localhost:8080/"
        },
        "id": "9aHg7XhP1c7P",
        "outputId": "9ba99c93-1f02-4575-97ff-9d8ac79a81d2"
      },
      "execution_count": 15,
      "outputs": [
        {
          "output_type": "stream",
          "name": "stdout",
          "text": [
            "Unique Scores : {34, 45, 78, 23, 56, 90}\n",
            "Common Scores : {90, 78}\n",
            "Exclusive Scores : {34, 45, 23, 56}\n",
            "Is A subset of B : False\n",
            "Is B superset of A : False\n",
            "Enter Score to remove from A : 34\n",
            "After removing 34 A: {56, 90, 78}\n"
          ]
        }
      ]
    },
    {
      "cell_type": "code",
      "source": [
        "sample_dict = {\n",
        "  \"name\": \"Kelly\",\n",
        "  \"age\" : 25,\n",
        "  \" salary\" : 8000,\n",
        "  \"city\": \"New york\"\n",
        "}\n",
        "\n",
        "sample_dict[\"location\"]=sample_dict.pop(\"city\")\n",
        "\n",
        "\n",
        "print(sample_dict)"
      ],
      "metadata": {
        "colab": {
          "base_uri": "https://localhost:8080/"
        },
        "id": "K94fH3gZ9W3F",
        "outputId": "2c2d3f39-932d-467d-f934-e54d0a4b0086"
      },
      "execution_count": 21,
      "outputs": [
        {
          "output_type": "stream",
          "name": "stdout",
          "text": [
            "{'name': 'Kelly', 'age': 25, ' salary': 8000, 'location': 'New york'}\n"
          ]
        }
      ]
    }
  ],
  "metadata": {
    "colab": {
      "provenance": []
    },
    "kernelspec": {
      "display_name": "Python 3",
      "name": "python3"
    },
    "language_info": {
      "name": "python"
    }
  },
  "nbformat": 4,
  "nbformat_minor": 0
}